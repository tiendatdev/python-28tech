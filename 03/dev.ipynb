{
 "cells": [
  {
   "cell_type": "code",
   "execution_count": null,
   "metadata": {},
   "outputs": [
    {
     "name": "stdout",
     "output_type": "stream",
     "text": [
      "Hello, World!\n"
     ]
    },
    {
     "data": {
      "text/plain": [
       "'\\ndday la chu thch nhieu dong\\n'"
      ]
     },
     "execution_count": 14,
     "metadata": {},
     "output_type": "execute_result"
    }
   ],
   "source": [
    "# Đây là chú thích\n",
    "# Các dòng chú thích sẽ không được thực thi\n",
    "# Chú thích giúp chúng ta hiểu code hơn\n",
    "\n",
    "print(\"Hello, World!\") # Dòng này in ra: Hello, World!\n",
    "\n",
    "# print(\"Hello, World!\")\n",
    "\n",
    "'''\n",
    "Đây là chú thích nhiều dòng\n",
    "Chú thích này có thể kéo dài qua nhiều dòng\n",
    "và sẽ không được thực thi bởi Python\n",
    "'''\n",
    "\n",
    "# print(\"Hello, World!\")\n",
    "\n",
    "# Đây là chú thích nhiều dòng\n",
    "# Chú thích này có thể kéo dài qua nhiều dòng\n",
    "# và sẽ không được thực thi bởi Python\n"
   ]
  }
 ],
 "metadata": {
  "kernelspec": {
   "display_name": "Python 3",
   "language": "python",
   "name": "python3"
  },
  "language_info": {
   "codemirror_mode": {
    "name": "ipython",
    "version": 3
   },
   "file_extension": ".py",
   "mimetype": "text/x-python",
   "name": "python",
   "nbconvert_exporter": "python",
   "pygments_lexer": "ipython3",
   "version": "3.11.9"
  }
 },
 "nbformat": 4,
 "nbformat_minor": 2
}
