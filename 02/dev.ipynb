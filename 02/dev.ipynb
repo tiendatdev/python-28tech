{
 "cells": [
  {
   "cell_type": "code",
   "execution_count": 11,
   "metadata": {},
   "outputs": [
    {
     "name": "stdout",
     "output_type": "stream",
     "text": [
      "Ròm Tiến Đạt\n",
      "100 200 300\n",
      "100|200|300\n",
      "Ròm Tiến Đạt\n",
      "Ròm Tiến Đạt\n",
      "Ròm Tiến Đạt\n",
      "Ròm Tiến Đạt\n",
      "Ròm Tiến Đạt\n",
      "html css javascript python\n",
      "Ròm#Tiến#Đạt\n",
      "html|css|javascript|python\n",
      "Ròm Tiến--Đạt***Ròm|Tiến|Đạt***html|css|javascript|python***\n"
     ]
    }
   ],
   "source": [
    "# In ra một chuỗi bất kỳ ra màn hình\n",
    "print('Ròm Tiến Đạt')\n",
    "\n",
    "a = 100\n",
    "b = 200\n",
    "c = 300\n",
    "\n",
    "print(a, b, c)\n",
    "\n",
    "# Nếu không có tham số sep thì khi in ra mặc định sẽ có một khoảng trắng giữa các giá trị được in ra.\n",
    "\n",
    "print(a, b, c, sep='|')\n",
    "# 100|200|300\n",
    "\n",
    "# Khi mà in ra một chuỗi ký tự thì đẩy chuỗi ký tự đó vào trong dấu nháy đơn hoặc nháy kép đều được\n",
    "\n",
    "print('Ròm Tiến Đạt')  # Ròm Tiến Đạt\n",
    "print(\"Ròm Tiến Đạt\")  # Ròm Tiến Đạt\n",
    "\n",
    "# Nếu muốn in ra một chuỗi ký tự chứa dấu nháy đơn hoặc nháy kép thì phải sử dụng dấu nháy kép để bao quanh chuỗi ký tự đó\n",
    "\n",
    "# In ra xâu ký tự (được đặt trong nháy đơn hoặc nháy kép)\n",
    "\n",
    "print(\"Ròm Tiến Đạt\")\n",
    "\n",
    "print('Ròm Tiến Đạt')\n",
    "\n",
    "# In nhiều object\n",
    "\n",
    "print(\"Ròm\", \"Tiến\", \"Đạt\")\n",
    "\n",
    "print(\"html\", \"css\", \"javascript\", \"python\")\n",
    "\n",
    "# print có tham số sep\n",
    "\n",
    "print(\"Ròm\", \"Tiến\", \"Đạt\", sep=\"#\")\n",
    "print(\"html\", \"css\", \"javascript\", \"python\", sep=\"|\")\n",
    "\n",
    "# print có tham số end\n",
    "\n",
    "print(\"Ròm\", end=\" \")\n",
    "print(\"Tiến\", end=\"--\")\n",
    "print(\"Đạt\", end=\"***\")\n",
    "\n",
    "# print có tham số end và sep\n",
    "\n",
    "print(\"Ròm\", \"Tiến\", \"Đạt\", sep=\"|\", end=\"***\")\n",
    "\n",
    "print(\"html\", \"css\", \"javascript\", \"python\", sep=\"|\", end=\"***\\n\")\n"
   ]
  }
 ],
 "metadata": {
  "kernelspec": {
   "display_name": "Python 3",
   "language": "python",
   "name": "python3"
  },
  "language_info": {
   "codemirror_mode": {
    "name": "ipython",
    "version": 3
   },
   "file_extension": ".py",
   "mimetype": "text/x-python",
   "name": "python",
   "nbconvert_exporter": "python",
   "pygments_lexer": "ipython3",
   "version": "3.11.9"
  }
 },
 "nbformat": 4,
 "nbformat_minor": 2
}
